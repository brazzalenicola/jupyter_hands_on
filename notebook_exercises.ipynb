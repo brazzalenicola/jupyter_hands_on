{
  "cells": [
    {
      "cell_type": "markdown",
      "metadata": {
        "id": "g84D_z6Y5dZR"
      },
      "source": [
        "## Jupyter Notebook example\n",
        "\n",
        "Follow instructions and fill in where required. Do not modify anything else than what you are asked to."
      ]
    },
    {
      "cell_type": "markdown",
      "metadata": {
        "id": "TOFgJmES5dZT"
      },
      "source": [
        "## Table of Contents\n",
        "\n",
        "* [1. Shell commands and line magics](#shellmagic)\n",
        "* [2. Latex for formulas](#latex)\n",
        "* [3. Interactive widget](#interactive)\n",
        "* [4. Git](#git)"
      ]
    },
    {
      "cell_type": "markdown",
      "metadata": {
        "id": "NOY2B4GX5dZU"
      },
      "source": [
        "### 1. Shell commands and line magics <a class=\"anchor\" id=\"shellmagic\"></a>\n",
        "\n",
        "1.1. In code cell below, run a shell command to print your working directory.\n",
        "\n",
        "1.2. Using a line magic create an alias called \"hello\" for command \"echo \"¡Hola mundo!\"\" and test it. Your answer should contain one line for creating alias and one line for using the alias."
      ]
    },
    {
      "cell_type": "code",
      "execution_count": null,
      "metadata": {
        "id": "aMtgB31x5dZV",
        "outputId": "cbd1c49a-f6e8-4c7f-9071-085d95fdaf05"
      },
      "outputs": [
        {
          "name": "stdout",
          "output_type": "stream",
          "text": [
            "/notebooks\n",
            "¡Hola mundo!\n"
          ]
        }
      ],
      "source": [
        "# Exercise 1.1. here:\n",
        "!pwd\n",
        "# Exercise 1.2. here:\n",
        "%alias hello echo \"¡Hola mundo!\"\n",
        "%hello"
      ]
    },
    {
      "cell_type": "markdown",
      "metadata": {
        "id": "z2wPKoTW5dZX"
      },
      "source": [
        "### 2. Markdown text <a class=\"anchor\" id=\"latex\"></a>\n",
        "\n",
        "Different kind of text can be added into markdown cells. [Here](https://jupyter-notebook.readthedocs.io/en/stable/examples/Notebook/Working%20With%20Markdown%20Cells.html) is a good source into Markdown basics.\n",
        "\n",
        "2.1. In markdown cell below display Pythagorean theorem using LaTex syntax.\n",
        "\n",
        "2.2. Display a Python function called \"hello\" that returns \"Hallo Welt!\". Use Github flavored markdown. (You may use some other programming language here if you wish)"
      ]
    },
    {
      "cell_type": "markdown",
      "metadata": {
        "id": "mOoQoEEd5dZY"
      },
      "source": [
        "2.1. here:  $a^{2} + b^{2} = c^{2}$\n",
        "\n",
        "\n",
        "2.2. here: \n",
        "\n",
        "```python\n",
        "def hello():\n",
        "    return \"Hallo Welt!\"\n",
        "```\n"
      ]
    },
    {
      "cell_type": "markdown",
      "metadata": {
        "id": "-Vwsp5C25dZZ"
      },
      "source": [
        "### 3. Interactive widget <a class=\"anchor\" id=\"interactive\"></a>\n",
        "\n",
        "In the program below we want to investigate a set of movie reviews and see what are the most frequent words there. We are not interested in seeing punctuation marks or the clearly most common words referred as stopwords. \n",
        "\n",
        "3.1. Run the code and investigate the output. In the marked codeline there is something wrong that causes wrong output. Can you figure out what to add to display correct words?\n",
        "\n",
        "3.2. Use the @interact decorator at the end of the program to range displaying 5 to 10 most frequent words. You can see an example of the usage of the decorator [here](https://coderefinery.github.io/jupyter/examples/#widgets-for-interactive-data-fitting)"
      ]
    },
    {
      "cell_type": "code",
      "execution_count": 7,
      "metadata": {
        "colab": {
          "base_uri": "https://localhost:8080/"
        },
        "id": "5OUvU_fA5dZa",
        "outputId": "f777909f-0124-466c-c6da-14a4c946c66e"
      },
      "outputs": [
        {
          "output_type": "stream",
          "name": "stdout",
          "text": [
            "[nltk_data] Downloading package movie_reviews to /root/nltk_data...\n",
            "[nltk_data]   Package movie_reviews is already up-to-date!\n",
            "[nltk_data] Downloading package stopwords to /root/nltk_data...\n",
            "[nltk_data]   Unzipping corpora/stopwords.zip.\n"
          ]
        },
        {
          "output_type": "execute_result",
          "data": {
            "text/plain": [
              "True"
            ]
          },
          "metadata": {},
          "execution_count": 7
        }
      ],
      "source": [
        "# Notice!: \n",
        "# For ModuleNotFoundError: No module named 'nltk' you need to pip install nltk to your environment\n",
        "# For ModuleNotFoundError: No module named 'ipywidgets' you need to pip install ipywidgets to your environment\n",
        "# To install nltk data sets movie_reviews and stopwords you need to install the data sets with nltk.download. \n",
        "# See examples: https://www.nltk.org/data.html\n",
        "# Do that here:\n",
        "import nltk\n",
        "nltk.download('movie_reviews')\n",
        "nltk.download('stopwords')"
      ]
    },
    {
      "cell_type": "code",
      "execution_count": 18,
      "metadata": {
        "colab": {
          "base_uri": "https://localhost:8080/",
          "height": 615,
          "referenced_widgets": [
            "e09e39b8ad4b417d9bd82cc5e8c72bed",
            "baee7b8f732243d5a68257c70a022128",
            "efda1ff766ca4946b823eadd7295943f",
            "6f617aa19a7c454db911612204a2887f",
            "18e16da056b34ec7b8ceb5091d6029f7",
            "31f1d176ca5b46569552c2535a906c71",
            "3e424b4618a047899dbe143c605176bb"
          ]
        },
        "id": "0DJufRX45dZb",
        "outputId": "b7927c0b-173a-4493-f565-8b68711b44f0"
      },
      "outputs": [
        {
          "output_type": "display_data",
          "data": {
            "image/png": "[encoded data removed]",
            "text/plain": [
              "<Figure size 432x288 with 1 Axes>"
            ]
          },
          "metadata": {
            "needs_background": "light"
          }
        },
        {
          "output_type": "display_data",
          "data": {
            "application/vnd.jupyter.widget-view+json": {
              "model_id": "e09e39b8ad4b417d9bd82cc5e8c72bed",
              "version_minor": 0,
              "version_major": 2
            },
            "text/plain": [
              "interactive(children=(IntSlider(value=7, description='n', max=10, min=5), Output()), _dom_classes=('widget-int…"
            ]
          },
          "metadata": {}
        }
      ],
      "source": [
        "from nltk import FreqDist\n",
        "from nltk import RegexpTokenizer\n",
        "from nltk.corpus import movie_reviews\n",
        "from nltk.corpus import stopwords \n",
        "from ipywidgets import interact\n",
        "\n",
        "tokenizer = RegexpTokenizer(r\"\\w+\")\n",
        "word_tokens = tokenizer.tokenize(movie_reviews.raw())\n",
        "\n",
        "stop_words = set(stopwords.words('english'))\n",
        "\n",
        "# Exercise 3.1. below: \n",
        "filtered_words = [w for w in word_tokens if w not in stop_words]\n",
        "\n",
        "fd = FreqDist(filtered_words)\n",
        "fd.plot(5)\n",
        "\n",
        "# Exercise 3.2. here:\n",
        "@interact\n",
        "def slider(n=(5, 10)):\n",
        "    fd = FreqDist(filtered_words)\n",
        "    fd.plot(n)"
      ]
    },
    {
      "cell_type": "markdown",
      "metadata": {
        "id": "bwqJ1AlD5dZc"
      },
      "source": [
        "### 4. Git <a class=\"anchor\" id=\"git\"></a>\n",
        "\n",
        "Follow [these](https://coderefinery.github.io/jupyter/version-control/) instructions to save this notebook and create a repository for it. After you have done this, paste the repository url in the cell below. Please make your repository public on Github so that your reviewer is able to assess this exercise."
      ]
    },
    {
      "cell_type": "code",
      "execution_count": null,
      "metadata": {
        "id": "QIO9UjRh5dZc"
      },
      "outputs": [],
      "source": [
        "# Paste your repository url here: \n",
        "# "
      ]
    }
  ],
  "metadata": {
    "kernelspec": {
      "display_name": "Python 3",
      "language": "python",
      "name": "python3"
    },
    "language_info": {
      "codemirror_mode": {
        "name": "ipython",
        "version": 3
      },
      "file_extension": ".py",
      "mimetype": "text/x-python",
      "name": "python",
      "nbconvert_exporter": "python",
      "pygments_lexer": "ipython3",
      "version": "3.9.5"
    },
    "colab": {
      "name": "notebook_exercises-2.ipynb",
      "provenance": [],
      "collapsed_sections": []
    },
    "widgets": {
      "application/vnd.jupyter.widget-state+json": {
        "e09e39b8ad4b417d9bd82cc5e8c72bed": {
          "model_module": "@jupyter-widgets/controls",
          "model_name": "VBoxModel",
          "model_module_version": "1.5.0",
          "state": {
            "_view_name": "VBoxView",
            "_dom_classes": [
              "widget-interact"
            ],
            "_model_name": "VBoxModel",
            "_view_module": "@jupyter-widgets/controls",
            "_model_module_version": "1.5.0",
            "_view_count": null,
            "_view_module_version": "1.5.0",
            "box_style": "",
            "layout": "IPY_MODEL_baee7b8f732243d5a68257c70a022128",
            "_model_module": "@jupyter-widgets/controls",
            "children": [
              "IPY_MODEL_efda1ff766ca4946b823eadd7295943f",
              "IPY_MODEL_6f617aa19a7c454db911612204a2887f"
            ]
          }
        },
        "baee7b8f732243d5a68257c70a022128": {
          "model_module": "@jupyter-widgets/base",
          "model_name": "LayoutModel",
          "model_module_version": "1.2.0",
          "state": {
            "_view_name": "LayoutView",
            "grid_template_rows": null,
            "right": null,
            "justify_content": null,
            "_view_module": "@jupyter-widgets/base",
            "overflow": null,
            "_model_module_version": "1.2.0",
            "_view_count": null,
            "flex_flow": null,
            "width": null,
            "min_width": null,
            "border": null,
            "align_items": null,
            "bottom": null,
            "_model_module": "@jupyter-widgets/base",
            "top": null,
            "grid_column": null,
            "overflow_y": null,
            "overflow_x": null,
            "grid_auto_flow": null,
            "grid_area": null,
            "grid_template_columns": null,
            "flex": null,
            "_model_name": "LayoutModel",
            "justify_items": null,
            "grid_row": null,
            "max_height": null,
            "align_content": null,
            "visibility": null,
            "align_self": null,
            "height": null,
            "min_height": null,
            "padding": null,
            "grid_auto_rows": null,
            "grid_gap": null,
            "max_width": null,
            "order": null,
            "_view_module_version": "1.2.0",
            "grid_template_areas": null,
            "object_position": null,
            "object_fit": null,
            "grid_auto_columns": null,
            "margin": null,
            "display": null,
            "left": null
          }
        },
        "efda1ff766ca4946b823eadd7295943f": {
          "model_module": "@jupyter-widgets/controls",
          "model_name": "IntSliderModel",
          "model_module_version": "1.5.0",
          "state": {
            "_view_name": "IntSliderView",
            "style": "IPY_MODEL_18e16da056b34ec7b8ceb5091d6029f7",
            "_dom_classes": [],
            "description": "n",
            "step": 1,
            "_model_name": "IntSliderModel",
            "orientation": "horizontal",
            "max": 10,
            "_view_module": "@jupyter-widgets/controls",
            "_model_module_version": "1.5.0",
            "value": 7,
            "_view_count": null,
            "disabled": false,
            "_view_module_version": "1.5.0",
            "min": 5,
            "continuous_update": true,
            "readout_format": "d",
            "description_tooltip": null,
            "readout": true,
            "_model_module": "@jupyter-widgets/controls",
            "layout": "IPY_MODEL_31f1d176ca5b46569552c2535a906c71"
          }
        },
        "6f617aa19a7c454db911612204a2887f": {
          "model_module": "@jupyter-widgets/output",
          "model_name": "OutputModel",
          "model_module_version": "1.0.0",
          "state": {
            "_view_name": "OutputView",
            "msg_id": "",
            "_dom_classes": [],
            "_model_name": "OutputModel",
            "outputs": [
              {
                "output_type": "display_data",
                "data": {
                  "image/png": "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\n",
                  "text/plain": "<Figure size 432x288 with 1 Axes>"
                },
                "metadata": {
                  "needs_background": "light"
                }
              }
            ],
            "_view_module": "@jupyter-widgets/output",
            "_model_module_version": "1.0.0",
            "_view_count": null,
            "_view_module_version": "1.0.0",
            "layout": "IPY_MODEL_3e424b4618a047899dbe143c605176bb",
            "_model_module": "@jupyter-widgets/output"
          }
        },
        "18e16da056b34ec7b8ceb5091d6029f7": {
          "model_module": "@jupyter-widgets/controls",
          "model_name": "SliderStyleModel",
          "model_module_version": "1.5.0",
          "state": {
            "_view_name": "StyleView",
            "handle_color": null,
            "_model_name": "SliderStyleModel",
            "description_width": "",
            "_view_module": "@jupyter-widgets/base",
            "_model_module_version": "1.5.0",
            "_view_count": null,
            "_view_module_version": "1.2.0",
            "_model_module": "@jupyter-widgets/controls"
          }
        },
        "31f1d176ca5b46569552c2535a906c71": {
          "model_module": "@jupyter-widgets/base",
          "model_name": "LayoutModel",
          "model_module_version": "1.2.0",
          "state": {
            "_view_name": "LayoutView",
            "grid_template_rows": null,
            "right": null,
            "justify_content": null,
            "_view_module": "@jupyter-widgets/base",
            "overflow": null,
            "_model_module_version": "1.2.0",
            "_view_count": null,
            "flex_flow": null,
            "width": null,
            "min_width": null,
            "border": null,
            "align_items": null,
            "bottom": null,
            "_model_module": "@jupyter-widgets/base",
            "top": null,
            "grid_column": null,
            "overflow_y": null,
            "overflow_x": null,
            "grid_auto_flow": null,
            "grid_area": null,
            "grid_template_columns": null,
            "flex": null,
            "_model_name": "LayoutModel",
            "justify_items": null,
            "grid_row": null,
            "max_height": null,
            "align_content": null,
            "visibility": null,
            "align_self": null,
            "height": null,
            "min_height": null,
            "padding": null,
            "grid_auto_rows": null,
            "grid_gap": null,
            "max_width": null,
            "order": null,
            "_view_module_version": "1.2.0",
            "grid_template_areas": null,
            "object_position": null,
            "object_fit": null,
            "grid_auto_columns": null,
            "margin": null,
            "display": null,
            "left": null
          }
        },
        "3e424b4618a047899dbe143c605176bb": {
          "model_module": "@jupyter-widgets/base",
          "model_name": "LayoutModel",
          "model_module_version": "1.2.0",
          "state": {
            "_view_name": "LayoutView",
            "grid_template_rows": null,
            "right": null,
            "justify_content": null,
            "_view_module": "@jupyter-widgets/base",
            "overflow": null,
            "_model_module_version": "1.2.0",
            "_view_count": null,
            "flex_flow": null,
            "width": null,
            "min_width": null,
            "border": null,
            "align_items": null,
            "bottom": null,
            "_model_module": "@jupyter-widgets/base",
            "top": null,
            "grid_column": null,
            "overflow_y": null,
            "overflow_x": null,
            "grid_auto_flow": null,
            "grid_area": null,
            "grid_template_columns": null,
            "flex": null,
            "_model_name": "LayoutModel",
            "justify_items": null,
            "grid_row": null,
            "max_height": null,
            "align_content": null,
            "visibility": null,
            "align_self": null,
            "height": null,
            "min_height": null,
            "padding": null,
            "grid_auto_rows": null,
            "grid_gap": null,
            "max_width": null,
            "order": null,
            "_view_module_version": "1.2.0",
            "grid_template_areas": null,
            "object_position": null,
            "object_fit": null,
            "grid_auto_columns": null,
            "margin": null,
            "display": null,
            "left": null
          }
        }
      }
    }
  },
  "nbformat": 4,
  "nbformat_minor": 0
}